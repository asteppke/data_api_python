{
 "cells": [
  {
   "cell_type": "code",
   "execution_count": 1,
   "metadata": {
    "collapsed": true
   },
   "outputs": [],
   "source": [
    "import data_api as api"
   ]
  },
  {
   "cell_type": "code",
   "execution_count": 5,
   "metadata": {
    "collapsed": false
   },
   "outputs": [
    {
     "data": {
      "text/plain": [
       "[{'backend': 'sf-databuffer',\n",
       "  'channels': ['SINSB02-RIQM-DCP10:FOR-PHASE',\n",
       "   'SINSB02-RIQM-DCP10:FOR-PHASE-AVG']},\n",
       " {'backend': 'sf-archiverappliance',\n",
       "  'channels': ['SINSB02-RIQM-DCP10:FOR-PHASE-AVG-P2P',\n",
       "   'SINSB02-RIQM-DCP10:FOR-PHASE-JIT-P2P',\n",
       "   'SINSB02-RIQM-DCP10:FOR-PHASE-STDEV']}]"
      ]
     },
     "execution_count": 5,
     "metadata": {},
     "output_type": "execute_result"
    }
   ],
   "source": [
    "# Search for specific channel\n",
    "api.search(\"SINSB02-RIQM-DCP10:FOR-PHASE\")"
   ]
  },
  {
   "cell_type": "code",
   "execution_count": 3,
   "metadata": {
    "collapsed": false
   },
   "outputs": [
    {
     "name": "stdout",
     "output_type": "stream",
     "text": [
      "2017-04-25 16:51:18.914897\n",
      "2017-04-25 16:50:08.914897\n",
      "2017-04-25 16:50:18.914897\n"
     ]
    }
   ],
   "source": [
    "import datetime\n",
    "now = datetime.datetime.now()\n",
    "end = now-datetime.timedelta(minutes=1)\n",
    "start = end-datetime.timedelta(seconds=10)\n",
    "print(now)\n",
    "print(start)\n",
    "print(end)\n",
    "df = api.get_data(channels=['SINSB02-RIQM-DCP10:FOR-PHASE'], start=start, end=end)"
   ]
  },
  {
   "cell_type": "code",
   "execution_count": 4,
   "metadata": {
    "collapsed": false
   },
   "outputs": [
    {
     "data": {
      "text/plain": [
       "500"
      ]
     },
     "execution_count": 4,
     "metadata": {},
     "output_type": "execute_result"
    }
   ],
   "source": [
    "df.size"
   ]
  },
  {
   "cell_type": "code",
   "execution_count": 5,
   "metadata": {
    "collapsed": false
   },
   "outputs": [
    {
     "data": {
      "text/html": [
       "<div>\n",
       "<table border=\"1\" class=\"dataframe\">\n",
       "  <thead>\n",
       "    <tr style=\"text-align: right;\">\n",
       "      <th></th>\n",
       "      <th>pulseId</th>\n",
       "      <th>globalSeconds</th>\n",
       "      <th>eventCount</th>\n",
       "      <th>SINSB02-RIQM-DCP10:FOR-PHASE</th>\n",
       "      <th>globalNanoseconds</th>\n",
       "    </tr>\n",
       "    <tr>\n",
       "      <th>globalDate</th>\n",
       "      <th></th>\n",
       "      <th></th>\n",
       "      <th></th>\n",
       "      <th></th>\n",
       "      <th></th>\n",
       "    </tr>\n",
       "  </thead>\n",
       "  <tbody>\n",
       "    <tr>\n",
       "      <th>2017-04-25T14:42:02.797381836+02:00</th>\n",
       "      <td>2241381836</td>\n",
       "      <td>1493124122.797</td>\n",
       "      <td>1</td>\n",
       "      <td>[0, 0, 0, 0, 0, 0, 0, 0, 0, 0, 0, 0, 0, 0, 0, ...</td>\n",
       "      <td>381836</td>\n",
       "    </tr>\n",
       "    <tr>\n",
       "      <th>2017-04-25T14:42:02.897381846+02:00</th>\n",
       "      <td>2241381846</td>\n",
       "      <td>1493124122.897</td>\n",
       "      <td>1</td>\n",
       "      <td>[0, 0, 0, 0, 0, 0, 0, 0, 0, 0, 0, 0, 0, 0, 0, ...</td>\n",
       "      <td>381846</td>\n",
       "    </tr>\n",
       "    <tr>\n",
       "      <th>2017-04-25T14:42:02.997381856+02:00</th>\n",
       "      <td>2241381856</td>\n",
       "      <td>1493124122.997</td>\n",
       "      <td>1</td>\n",
       "      <td>[0, 0, 0, 0, 0, 0, 0, 0, 0, 0, 0, 0, 0, 0, 0, ...</td>\n",
       "      <td>381856</td>\n",
       "    </tr>\n",
       "    <tr>\n",
       "      <th>2017-04-25T14:42:03.097381866+02:00</th>\n",
       "      <td>2241381866</td>\n",
       "      <td>1493124123.097</td>\n",
       "      <td>1</td>\n",
       "      <td>[0, 0, 0, 0, 0, 0, 0, 0, 0, 0, 0, 0, 0, 0, 0, ...</td>\n",
       "      <td>381866</td>\n",
       "    </tr>\n",
       "    <tr>\n",
       "      <th>2017-04-25T14:42:03.197381876+02:00</th>\n",
       "      <td>2241381876</td>\n",
       "      <td>1493124123.197</td>\n",
       "      <td>1</td>\n",
       "      <td>[0, 0, 0, 0, 0, 0, 0, 0, 0, 0, 0, 0, 0, 0, 0, ...</td>\n",
       "      <td>381876</td>\n",
       "    </tr>\n",
       "  </tbody>\n",
       "</table>\n",
       "</div>"
      ],
      "text/plain": [
       "                                        pulseId  globalSeconds  eventCount  \\\n",
       "globalDate                                                                   \n",
       "2017-04-25T14:42:02.797381836+02:00  2241381836 1493124122.797           1   \n",
       "2017-04-25T14:42:02.897381846+02:00  2241381846 1493124122.897           1   \n",
       "2017-04-25T14:42:02.997381856+02:00  2241381856 1493124122.997           1   \n",
       "2017-04-25T14:42:03.097381866+02:00  2241381866 1493124123.097           1   \n",
       "2017-04-25T14:42:03.197381876+02:00  2241381876 1493124123.197           1   \n",
       "\n",
       "                                                          SINSB02-RIQM-DCP10:FOR-PHASE  \\\n",
       "globalDate                                                                               \n",
       "2017-04-25T14:42:02.797381836+02:00  [0, 0, 0, 0, 0, 0, 0, 0, 0, 0, 0, 0, 0, 0, 0, ...   \n",
       "2017-04-25T14:42:02.897381846+02:00  [0, 0, 0, 0, 0, 0, 0, 0, 0, 0, 0, 0, 0, 0, 0, ...   \n",
       "2017-04-25T14:42:02.997381856+02:00  [0, 0, 0, 0, 0, 0, 0, 0, 0, 0, 0, 0, 0, 0, 0, ...   \n",
       "2017-04-25T14:42:03.097381866+02:00  [0, 0, 0, 0, 0, 0, 0, 0, 0, 0, 0, 0, 0, 0, 0, ...   \n",
       "2017-04-25T14:42:03.197381876+02:00  [0, 0, 0, 0, 0, 0, 0, 0, 0, 0, 0, 0, 0, 0, 0, ...   \n",
       "\n",
       "                                     globalNanoseconds  \n",
       "globalDate                                              \n",
       "2017-04-25T14:42:02.797381836+02:00             381836  \n",
       "2017-04-25T14:42:02.897381846+02:00             381846  \n",
       "2017-04-25T14:42:02.997381856+02:00             381856  \n",
       "2017-04-25T14:42:03.097381866+02:00             381866  \n",
       "2017-04-25T14:42:03.197381876+02:00             381876  "
      ]
     },
     "execution_count": 5,
     "metadata": {},
     "output_type": "execute_result"
    }
   ],
   "source": [
    "df.head()"
   ]
  },
  {
   "cell_type": "code",
   "execution_count": 6,
   "metadata": {
    "collapsed": false
   },
   "outputs": [
    {
     "name": "stdout",
     "output_type": "stream",
     "text": [
      "2017-04-25 14:43:21.231864\n",
      "2017-04-25 14:42:11.231864\n",
      "2017-04-25 14:42:21.231864\n"
     ]
    },
    {
     "ename": "AttributeError",
     "evalue": "'NoneType' object has no attribute 'globalSeconds'",
     "output_type": "error",
     "traceback": [
      "\u001b[0;31m---------------------------------------------------------------------------\u001b[0m",
      "\u001b[0;31mAttributeError\u001b[0m                            Traceback (most recent call last)",
      "\u001b[0;32m<ipython-input-6-b7eec87e3916>\u001b[0m in \u001b[0;36m<module>\u001b[0;34m()\u001b[0m\n\u001b[1;32m      6\u001b[0m \u001b[0mprint\u001b[0m\u001b[0;34m(\u001b[0m\u001b[0mstart\u001b[0m\u001b[0;34m)\u001b[0m\u001b[0;34m\u001b[0m\u001b[0m\n\u001b[1;32m      7\u001b[0m \u001b[0mprint\u001b[0m\u001b[0;34m(\u001b[0m\u001b[0mend\u001b[0m\u001b[0;34m)\u001b[0m\u001b[0;34m\u001b[0m\u001b[0m\n\u001b[0;32m----> 8\u001b[0;31m \u001b[0mdata\u001b[0m \u001b[0;34m=\u001b[0m \u001b[0mapi\u001b[0m\u001b[0;34m.\u001b[0m\u001b[0mget_data\u001b[0m\u001b[0;34m(\u001b[0m\u001b[0mchannels\u001b[0m\u001b[0;34m=\u001b[0m\u001b[0;34m[\u001b[0m\u001b[0;34m'sf-archiverappliance/SINSB02-RIQM-DCP10:FOR-AMPLT-MAX'\u001b[0m\u001b[0;34m]\u001b[0m\u001b[0;34m,\u001b[0m \u001b[0mstart\u001b[0m\u001b[0;34m=\u001b[0m\u001b[0mstart\u001b[0m\u001b[0;34m,\u001b[0m \u001b[0mend\u001b[0m\u001b[0;34m=\u001b[0m\u001b[0mend\u001b[0m\u001b[0;34m)\u001b[0m\u001b[0;34m\u001b[0m\u001b[0m\n\u001b[0m",
      "\u001b[0;32m/Users/ebner/Git/data-api_python/data_api/client.py\u001b[0m in \u001b[0;36mget_data\u001b[0;34m(channels, start, end, range_type, delta_range, index_field, include_nanoseconds)\u001b[0m\n\u001b[1;32m    493\u001b[0m     return DataApiClient().get_data(channels,\n\u001b[1;32m    494\u001b[0m                                     \u001b[0mstart\u001b[0m\u001b[0;34m=\u001b[0m\u001b[0mstart\u001b[0m\u001b[0;34m,\u001b[0m \u001b[0mend\u001b[0m\u001b[0;34m=\u001b[0m\u001b[0mend\u001b[0m\u001b[0;34m,\u001b[0m \u001b[0mrange_type\u001b[0m\u001b[0;34m=\u001b[0m\u001b[0mrange_type\u001b[0m\u001b[0;34m,\u001b[0m \u001b[0mdelta_range\u001b[0m\u001b[0;34m=\u001b[0m\u001b[0mdelta_range\u001b[0m\u001b[0;34m,\u001b[0m\u001b[0;34m\u001b[0m\u001b[0m\n\u001b[0;32m--> 495\u001b[0;31m                                     index_field=index_field, include_nanoseconds=include_nanoseconds)\n\u001b[0m\u001b[1;32m    496\u001b[0m \u001b[0;34m\u001b[0m\u001b[0m\n\u001b[1;32m    497\u001b[0m \u001b[0;34m\u001b[0m\u001b[0m\n",
      "\u001b[0;32m/Users/ebner/Git/data-api_python/data_api/client.py\u001b[0m in \u001b[0;36mget_data\u001b[0;34m(self, channels, start, end, range_type, delta_range, index_field, include_nanoseconds)\u001b[0m\n\u001b[1;32m    307\u001b[0m \u001b[0;34m\u001b[0m\u001b[0m\n\u001b[1;32m    308\u001b[0m         \u001b[0;31m# milliseconds rounding\u001b[0m\u001b[0;34m\u001b[0m\u001b[0;34m\u001b[0m\u001b[0m\n\u001b[0;32m--> 309\u001b[0;31m         \u001b[0mdf\u001b[0m\u001b[0;34m[\u001b[0m\u001b[0;34m\"globalNanoseconds\"\u001b[0m\u001b[0;34m]\u001b[0m \u001b[0;34m=\u001b[0m \u001b[0mdf\u001b[0m\u001b[0;34m.\u001b[0m\u001b[0mglobalSeconds\u001b[0m\u001b[0;34m.\u001b[0m\u001b[0mmap\u001b[0m\u001b[0;34m(\u001b[0m\u001b[0;32mlambda\u001b[0m \u001b[0mx\u001b[0m\u001b[0;34m:\u001b[0m \u001b[0mint\u001b[0m\u001b[0;34m(\u001b[0m\u001b[0mx\u001b[0m\u001b[0;34m.\u001b[0m\u001b[0msplit\u001b[0m\u001b[0;34m(\u001b[0m\u001b[0;34m'.'\u001b[0m\u001b[0;34m)\u001b[0m\u001b[0;34m[\u001b[0m\u001b[0;36m1\u001b[0m\u001b[0;34m]\u001b[0m\u001b[0;34m[\u001b[0m\u001b[0;36m3\u001b[0m\u001b[0;34m:\u001b[0m\u001b[0;34m]\u001b[0m\u001b[0;34m)\u001b[0m\u001b[0;34m)\u001b[0m\u001b[0;34m\u001b[0m\u001b[0m\n\u001b[0m\u001b[1;32m    310\u001b[0m         \u001b[0mdf\u001b[0m\u001b[0;34m[\u001b[0m\u001b[0;34m\"globalSeconds\"\u001b[0m\u001b[0;34m]\u001b[0m \u001b[0;34m=\u001b[0m \u001b[0mdf\u001b[0m\u001b[0;34m.\u001b[0m\u001b[0mglobalSeconds\u001b[0m\u001b[0;34m.\u001b[0m\u001b[0mmap\u001b[0m\u001b[0;34m(\u001b[0m\u001b[0;32mlambda\u001b[0m \u001b[0mx\u001b[0m\u001b[0;34m:\u001b[0m \u001b[0mfloat\u001b[0m\u001b[0;34m(\u001b[0m\u001b[0mx\u001b[0m\u001b[0;34m.\u001b[0m\u001b[0msplit\u001b[0m\u001b[0;34m(\u001b[0m\u001b[0;34m'.'\u001b[0m\u001b[0;34m)\u001b[0m\u001b[0;34m[\u001b[0m\u001b[0;36m0\u001b[0m\u001b[0;34m]\u001b[0m \u001b[0;34m+\u001b[0m \u001b[0;34m\".\"\u001b[0m \u001b[0;34m+\u001b[0m \u001b[0mx\u001b[0m\u001b[0;34m.\u001b[0m\u001b[0msplit\u001b[0m\u001b[0;34m(\u001b[0m\u001b[0;34m'.'\u001b[0m\u001b[0;34m)\u001b[0m\u001b[0;34m[\u001b[0m\u001b[0;36m1\u001b[0m\u001b[0;34m]\u001b[0m\u001b[0;34m[\u001b[0m\u001b[0;34m:\u001b[0m\u001b[0;36m3\u001b[0m\u001b[0;34m]\u001b[0m\u001b[0;34m)\u001b[0m\u001b[0;34m)\u001b[0m\u001b[0;34m\u001b[0m\u001b[0m\n\u001b[1;32m    311\u001b[0m \u001b[0;34m\u001b[0m\u001b[0m\n",
      "\u001b[0;31mAttributeError\u001b[0m: 'NoneType' object has no attribute 'globalSeconds'"
     ]
    }
   ],
   "source": [
    "# Retrieve data from the archiver\n",
    "now = datetime.datetime.now()\n",
    "end = now-datetime.timedelta(minutes=1)\n",
    "start = end-datetime.timedelta(seconds=10)\n",
    "print(now)\n",
    "print(start)\n",
    "print(end)\n",
    "data = api.get_data(channels=['sf-archiverappliance/SINSB02-RIQM-DCP10:FOR-AMPLT-MAX'], start=start, end=end)\n"
   ]
  },
  {
   "cell_type": "code",
   "execution_count": null,
   "metadata": {
    "collapsed": true
   },
   "outputs": [],
   "source": []
  }
 ],
 "metadata": {
  "anaconda-cloud": {},
  "kernelspec": {
   "display_name": "Python [Root]",
   "language": "python",
   "name": "Python [Root]"
  },
  "language_info": {
   "codemirror_mode": {
    "name": "ipython",
    "version": 3
   },
   "file_extension": ".py",
   "mimetype": "text/x-python",
   "name": "python",
   "nbconvert_exporter": "python",
   "pygments_lexer": "ipython3",
   "version": "3.5.2"
  }
 },
 "nbformat": 4,
 "nbformat_minor": 0
}
