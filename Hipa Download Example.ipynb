{
 "cells": [
  {
   "cell_type": "code",
   "execution_count": 1,
   "metadata": {},
   "outputs": [],
   "source": [
    "import data_api3.reader as reader"
   ]
  },
  {
   "cell_type": "code",
   "execution_count": 2,
   "metadata": {},
   "outputs": [],
   "source": [
    "# IMPORTANT the start and end date is in UTC !!!!\n",
    "query = {\n",
    "  \"channels\": [\"MHC1:IST:2\", \"MHC2:IST:2\"],\n",
    "  \"range\": {\n",
    "    \"type\": \"date\",\n",
    "    \"startDate\": \"2019-11-06T10:00:00.000000000Z\",\n",
    "    \"endDate\": \"2019-11-06T10:10:00.000000000Z\"\n",
    "  }\n",
    "}"
   ]
  },
  {
   "cell_type": "code",
   "execution_count": 6,
   "metadata": {},
   "outputs": [
    {
     "name": "stderr",
     "output_type": "stream",
     "text": [
      "/Users/ebner/anaconda37/lib/python3.7/site-packages/urllib3/connectionpool.py:847: InsecureRequestWarning: Unverified HTTPS request is being made. Adding certificate verification is strongly advised. See: https://urllib3.readthedocs.io/en/latest/advanced-usage.html#ssl-warnings\n",
      "  InsecureRequestWarning)\n"
     ]
    },
    {
     "name": "stdout",
     "output_type": "stream",
     "text": [
      "25, 25\n"
     ]
    }
   ],
   "source": [
    "data = reader.as_dataframe(reader.request(query, url=\"https://data-api.psi.ch/hipa/test/api/v1/query\"))"
   ]
  },
  {
   "cell_type": "code",
   "execution_count": 7,
   "metadata": {},
   "outputs": [
    {
     "data": {
      "text/html": [
       "<div>\n",
       "<style scoped>\n",
       "    .dataframe tbody tr th:only-of-type {\n",
       "        vertical-align: middle;\n",
       "    }\n",
       "\n",
       "    .dataframe tbody tr th {\n",
       "        vertical-align: top;\n",
       "    }\n",
       "\n",
       "    .dataframe thead th {\n",
       "        text-align: right;\n",
       "    }\n",
       "</style>\n",
       "<table border=\"1\" class=\"dataframe\">\n",
       "  <thead>\n",
       "    <tr style=\"text-align: right;\">\n",
       "      <th></th>\n",
       "      <th>MHC1:IST:2</th>\n",
       "      <th>MHC2:IST:2</th>\n",
       "    </tr>\n",
       "    <tr>\n",
       "      <th>timestamp</th>\n",
       "      <th></th>\n",
       "      <th></th>\n",
       "    </tr>\n",
       "  </thead>\n",
       "  <tbody>\n",
       "    <tr>\n",
       "      <td>1573034400006541420</td>\n",
       "      <td>1819.7</td>\n",
       "      <td>1824.8</td>\n",
       "    </tr>\n",
       "    <tr>\n",
       "      <td>1573034400206541420</td>\n",
       "      <td>1819.1</td>\n",
       "      <td>1824.7</td>\n",
       "    </tr>\n",
       "    <tr>\n",
       "      <td>1573034400406541420</td>\n",
       "      <td>1819.5</td>\n",
       "      <td>1824.4</td>\n",
       "    </tr>\n",
       "    <tr>\n",
       "      <td>1573034400606541420</td>\n",
       "      <td>1820.0</td>\n",
       "      <td>1824.7</td>\n",
       "    </tr>\n",
       "    <tr>\n",
       "      <td>1573034400806541420</td>\n",
       "      <td>1819.9</td>\n",
       "      <td>1824.5</td>\n",
       "    </tr>\n",
       "    <tr>\n",
       "      <td>...</td>\n",
       "      <td>...</td>\n",
       "      <td>...</td>\n",
       "    </tr>\n",
       "    <tr>\n",
       "      <td>1573034975406839130</td>\n",
       "      <td>1820.4</td>\n",
       "      <td>1825.4</td>\n",
       "    </tr>\n",
       "    <tr>\n",
       "      <td>1573034979008022410</td>\n",
       "      <td>1820.4</td>\n",
       "      <td>1825.7</td>\n",
       "    </tr>\n",
       "    <tr>\n",
       "      <td>1573034982808022410</td>\n",
       "      <td>1820.4</td>\n",
       "      <td>1824.9</td>\n",
       "    </tr>\n",
       "    <tr>\n",
       "      <td>1573034983408022410</td>\n",
       "      <td>1820.4</td>\n",
       "      <td>1824.1</td>\n",
       "    </tr>\n",
       "    <tr>\n",
       "      <td>1573034990408022410</td>\n",
       "      <td>1820.4</td>\n",
       "      <td>1825.6</td>\n",
       "    </tr>\n",
       "  </tbody>\n",
       "</table>\n",
       "<p>2981 rows × 2 columns</p>\n",
       "</div>"
      ],
      "text/plain": [
       "                     MHC1:IST:2  MHC2:IST:2\n",
       "timestamp                                  \n",
       "1573034400006541420      1819.7      1824.8\n",
       "1573034400206541420      1819.1      1824.7\n",
       "1573034400406541420      1819.5      1824.4\n",
       "1573034400606541420      1820.0      1824.7\n",
       "1573034400806541420      1819.9      1824.5\n",
       "...                         ...         ...\n",
       "1573034975406839130      1820.4      1825.4\n",
       "1573034979008022410      1820.4      1825.7\n",
       "1573034982808022410      1820.4      1824.9\n",
       "1573034983408022410      1820.4      1824.1\n",
       "1573034990408022410      1820.4      1825.6\n",
       "\n",
       "[2981 rows x 2 columns]"
      ]
     },
     "execution_count": 7,
     "metadata": {},
     "output_type": "execute_result"
    }
   ],
   "source": [
    "data"
   ]
  },
  {
   "cell_type": "code",
   "execution_count": null,
   "metadata": {},
   "outputs": [],
   "source": []
  }
 ],
 "metadata": {
  "kernelspec": {
   "display_name": "Python 3",
   "language": "python",
   "name": "python3"
  },
  "language_info": {
   "codemirror_mode": {
    "name": "ipython",
    "version": 3
   },
   "file_extension": ".py",
   "mimetype": "text/x-python",
   "name": "python",
   "nbconvert_exporter": "python",
   "pygments_lexer": "ipython3",
   "version": "3.7.4"
  }
 },
 "nbformat": 4,
 "nbformat_minor": 2
}
