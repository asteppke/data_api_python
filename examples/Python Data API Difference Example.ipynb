{
 "cells": [
  {
   "cell_type": "code",
   "execution_count": 1,
   "metadata": {
    "collapsed": true
   },
   "outputs": [],
   "source": [
    "import requests\n",
    "import numpy"
   ]
  },
  {
   "cell_type": "code",
   "execution_count": 2,
   "metadata": {
    "collapsed": false
   },
   "outputs": [
    {
     "name": "stdout",
     "output_type": "stream",
     "text": [
      "2016-07-13T15:49:37.701334\n",
      "2016-07-13T15:54:37.701334\n"
     ]
    }
   ],
   "source": [
    "import datetime\n",
    "time_base = datetime.datetime.now()- datetime.timedelta(minutes=1)\n",
    "time_end = time_base\n",
    "time_start = time_base - datetime.timedelta(minutes=5)\n",
    "\n",
    "print(datetime.datetime.isoformat(time_start))\n",
    "print(datetime.datetime.isoformat(time_end))"
   ]
  },
  {
   "cell_type": "code",
   "execution_count": 3,
   "metadata": {
    "collapsed": false
   },
   "outputs": [
    {
     "data": {
      "text/plain": [
       "'2016-07-13T15:49:37'"
      ]
     },
     "execution_count": 3,
     "metadata": {},
     "output_type": "execute_result"
    }
   ],
   "source": [
    "time_start.strftime(\"%Y-%m-%dT%H:%M:%S\")"
   ]
  },
  {
   "cell_type": "code",
   "execution_count": 4,
   "metadata": {
    "collapsed": false
   },
   "outputs": [
    {
     "name": "stdout",
     "output_type": "stream",
     "text": [
      "2016-07-13T15:49:37.701334\n",
      "2016-07-13T15:54:37.701334\n"
     ]
    }
   ],
   "source": [
    "# channel_name = 'SINSB02-RIQM-DCP10:FOR-PHASE-AVG'\n",
    "channel_names = ['SINSB01-RLLE-STA:MASTER-CPUTIMER', 'SINSB01-RLLE-STA:SLAVE1-CPUTIMER']\n",
    "# start = '2016-07-08T08:28:00.000+02:00'\n",
    "# end = '2016-07-08T08:28:10.000+02:00'\n",
    "# \n",
    "# start = time_start.strftime(\"%Y-%m-%dT%H:%M:%S\")\n",
    "# end = time_end.strftime(\"%Y-%m-%dT%H:%M:%S\")\n",
    "start = datetime.datetime.isoformat(time_start)\n",
    "end = datetime.datetime.isoformat(time_end)\n",
    "print(start)\n",
    "print(end)\n",
    "data={\"channels\": channel_names, \"range\":{\"startDate\": start,  \"endDate\":end}}"
   ]
  },
  {
   "cell_type": "code",
   "execution_count": 5,
   "metadata": {
    "collapsed": false
   },
   "outputs": [],
   "source": [
    "response = requests.post('http://data-api.psi.ch/sf/query', json=data)"
   ]
  },
  {
   "cell_type": "code",
   "execution_count": 6,
   "metadata": {
    "collapsed": false
   },
   "outputs": [],
   "source": [
    "data = response.json()"
   ]
  },
  {
   "cell_type": "code",
   "execution_count": 9,
   "metadata": {
    "collapsed": true
   },
   "outputs": [],
   "source": [
    "value_channel_0=[]\n",
    "for x in data[0]['data']:\n",
    "    value_channel_0.append(x['value'])\n",
    "value_channel_1=[]\n",
    "for x in data[1]['data']:\n",
    "    value_channel_1.append(x['value'])"
   ]
  },
  {
   "cell_type": "code",
   "execution_count": 10,
   "metadata": {
    "collapsed": false
   },
   "outputs": [],
   "source": [
    "# difference channel 0 and 1\n",
    "difference = numpy.asarray(value_channel_0) - numpy.asarray(value_channel_1)"
   ]
  },
  {
   "cell_type": "code",
   "execution_count": 11,
   "metadata": {
    "collapsed": false
   },
   "outputs": [
    {
     "data": {
      "image/png": "[encoded data removed]",
      "text/plain": [
       "<matplotlib.figure.Figure at 0x104758cf8>"
      ]
     },
     "metadata": {},
     "output_type": "display_data"
    }
   ],
   "source": [
    "%matplotlib inline\n",
    "\n",
    "import matplotlib.pyplot as plt\n",
    "plt.plot(difference)\n",
    "plt.ylabel('difference')\n",
    "plt.show()"
   ]
  },
  {
   "cell_type": "code",
   "execution_count": null,
   "metadata": {
    "collapsed": true
   },
   "outputs": [],
   "source": []
  }
 ],
 "metadata": {
  "kernelspec": {
   "display_name": "Python 3",
   "language": "python",
   "name": "python3"
  },
  "language_info": {
   "codemirror_mode": {
    "name": "ipython",
    "version": 3
   },
   "file_extension": ".py",
   "mimetype": "text/x-python",
   "name": "python",
   "nbconvert_exporter": "python",
   "pygments_lexer": "ipython3",
   "version": "3.5.1"
  }
 },
 "nbformat": 4,
 "nbformat_minor": 0
}
