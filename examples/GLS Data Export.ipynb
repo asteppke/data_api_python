{
 "cells": [
  {
   "cell_type": "code",
   "execution_count": 1,
   "metadata": {
    "collapsed": true
   },
   "outputs": [],
   "source": [
    "import data_api.client as api"
   ]
  },
  {
   "cell_type": "code",
   "execution_count": 2,
   "metadata": {
    "collapsed": true
   },
   "outputs": [],
   "source": [
    "api.default_base_url = 'https://gls.psi.ch/'"
   ]
  },
  {
   "cell_type": "code",
   "execution_count": 3,
   "metadata": {},
   "outputs": [
    {
     "data": {
      "text/plain": [
       "['gls-archive']"
      ]
     },
     "execution_count": 3,
     "metadata": {},
     "output_type": "execute_result"
    }
   ],
   "source": [
    "api.get_supported_backends()"
   ]
  },
  {
   "cell_type": "code",
   "execution_count": 4,
   "metadata": {},
   "outputs": [
    {
     "data": {
      "text/plain": [
       "[{'backend': 'gls-archive', 'channels': ['D_TEST_DXNODE']}]"
      ]
     },
     "execution_count": 4,
     "metadata": {},
     "output_type": "execute_result"
    }
   ],
   "source": [
    "# api.search(\".*DXNODE\", backends=[\"gls-archive\"], base_url=\"https://gls.psi.ch/\")\n",
    "api.search(\".*DXNODE\")"
   ]
  },
  {
   "cell_type": "code",
   "execution_count": 9,
   "metadata": {},
   "outputs": [
    {
     "name": "stderr",
     "output_type": "stream",
     "text": [
      "[INFO] Querying channels: ['D_TEST_DXNODE']\n",
      "[INFO] Querying on globalDate between 2018-03-07 11:56:50.361762 and 2018-03-07 12:06:50.361762\n"
     ]
    }
   ],
   "source": [
    "import datetime\n",
    "now = datetime.datetime.now()\n",
    "end = now-datetime.timedelta(minutes=1)\n",
    "start = end-datetime.timedelta(seconds=600)\n",
    "data = api.get_data(channels=['D_TEST_DXNODE'], start=start, end=end)"
   ]
  },
  {
   "cell_type": "code",
   "execution_count": 10,
   "metadata": {},
   "outputs": [
    {
     "data": {
      "text/html": [
       "<div>\n",
       "<style>\n",
       "    .dataframe thead tr:only-child th {\n",
       "        text-align: right;\n",
       "    }\n",
       "\n",
       "    .dataframe thead th {\n",
       "        text-align: left;\n",
       "    }\n",
       "\n",
       "    .dataframe tbody tr th {\n",
       "        vertical-align: top;\n",
       "    }\n",
       "</style>\n",
       "<table border=\"1\" class=\"dataframe\">\n",
       "  <thead>\n",
       "    <tr style=\"text-align: right;\">\n",
       "      <th></th>\n",
       "      <th>pulseId</th>\n",
       "      <th>globalSeconds</th>\n",
       "      <th>eventCount</th>\n",
       "      <th>D_TEST_DXNODE</th>\n",
       "      <th>globalNanoseconds</th>\n",
       "    </tr>\n",
       "    <tr>\n",
       "      <th>globalDate</th>\n",
       "      <th></th>\n",
       "      <th></th>\n",
       "      <th></th>\n",
       "      <th></th>\n",
       "      <th></th>\n",
       "    </tr>\n",
       "  </thead>\n",
       "  <tbody>\n",
       "    <tr>\n",
       "      <th>2018-03-07T11:56:50.605000000+01:00</th>\n",
       "      <td>-1</td>\n",
       "      <td>1520420210.605</td>\n",
       "      <td>1</td>\n",
       "      <td>50.000</td>\n",
       "      <td>0</td>\n",
       "    </tr>\n",
       "    <tr>\n",
       "      <th>2018-03-07T11:56:51.853000000+01:00</th>\n",
       "      <td>-1</td>\n",
       "      <td>1520420211.853</td>\n",
       "      <td>1</td>\n",
       "      <td>51.000</td>\n",
       "      <td>0</td>\n",
       "    </tr>\n",
       "    <tr>\n",
       "      <th>2018-03-07T11:56:53.101000000+01:00</th>\n",
       "      <td>-1</td>\n",
       "      <td>1520420213.101</td>\n",
       "      <td>1</td>\n",
       "      <td>53.000</td>\n",
       "      <td>0</td>\n",
       "    </tr>\n",
       "    <tr>\n",
       "      <th>2018-03-07T11:56:54.037000000+01:00</th>\n",
       "      <td>-1</td>\n",
       "      <td>1520420214.037</td>\n",
       "      <td>1</td>\n",
       "      <td>54.000</td>\n",
       "      <td>0</td>\n",
       "    </tr>\n",
       "    <tr>\n",
       "      <th>2018-03-07T11:56:55.410000000+01:00</th>\n",
       "      <td>-1</td>\n",
       "      <td>1520420215.410</td>\n",
       "      <td>1</td>\n",
       "      <td>55.000</td>\n",
       "      <td>0</td>\n",
       "    </tr>\n",
       "  </tbody>\n",
       "</table>\n",
       "</div>"
      ],
      "text/plain": [
       "                                     pulseId  globalSeconds  eventCount  \\\n",
       "globalDate                                                                \n",
       "2018-03-07T11:56:50.605000000+01:00       -1 1520420210.605           1   \n",
       "2018-03-07T11:56:51.853000000+01:00       -1 1520420211.853           1   \n",
       "2018-03-07T11:56:53.101000000+01:00       -1 1520420213.101           1   \n",
       "2018-03-07T11:56:54.037000000+01:00       -1 1520420214.037           1   \n",
       "2018-03-07T11:56:55.410000000+01:00       -1 1520420215.410           1   \n",
       "\n",
       "                                     D_TEST_DXNODE  globalNanoseconds  \n",
       "globalDate                                                             \n",
       "2018-03-07T11:56:50.605000000+01:00         50.000                  0  \n",
       "2018-03-07T11:56:51.853000000+01:00         51.000                  0  \n",
       "2018-03-07T11:56:53.101000000+01:00         53.000                  0  \n",
       "2018-03-07T11:56:54.037000000+01:00         54.000                  0  \n",
       "2018-03-07T11:56:55.410000000+01:00         55.000                  0  "
      ]
     },
     "execution_count": 10,
     "metadata": {},
     "output_type": "execute_result"
    }
   ],
   "source": [
    "data.head()"
   ]
  },
  {
   "cell_type": "code",
   "execution_count": 7,
   "metadata": {},
   "outputs": [
    {
     "data": {
      "image/png": "[encoded data removed]",
      "text/plain": [
       "<matplotlib.figure.Figure at 0x10b1d5358>"
      ]
     },
     "metadata": {},
     "output_type": "display_data"
    }
   ],
   "source": [
    "# Plot via Matplotlib\n",
    "import matplotlib.pyplot as plt\n",
    "plt.plot(data[\"D_TEST_DXNODE\"])\n",
    "plt.show()"
   ]
  },
  {
   "cell_type": "code",
   "execution_count": 8,
   "metadata": {
    "scrolled": true
   },
   "outputs": [
    {
     "data": {
      "text/html": [
       "<script>requirejs.config({paths: { 'plotly': ['https://cdn.plot.ly/plotly-latest.min']},});if(!window.Plotly) {{require(['plotly'],function(plotly) {window.Plotly=plotly;});}}</script>"
      ]
     },
     "metadata": {},
     "output_type": "execute_result"
    },
    {
     "data": {
      "text/html": [
       "<div id=\"b0db633b-c41f-4544-be87-0d35c34fb2e6\" style=\"height: 525px; width: 100%;\" class=\"plotly-graph-div\"></div><script type=\"text/javascript\">require([\"plotly\"], function(Plotly) { window.PLOTLYENV=window.PLOTLYENV || {};window.PLOTLYENV.BASE_URL=\"https://plot.ly\";Plotly.newPlot(\"b0db633b-c41f-4544-be87-0d35c34fb2e6\", [{\"type\": \"scatter\", \"x\": [1520414070.836, 1520414071.772, 1520414073.02, 1520414074.268, 1520414075.516, 1520414076.452, 1520414077.7, 1520414078.948, 1520414079.884, 1520414081.132, 1520414082.38, 1520414083.379, 1520414084.627, 1520414085.875, 1520414086.811, 1520414088.059, 1520414089.307, 1520414090.243, 1520414091.179, 1520414092.427, 1520414093.675, 1520414094.923, 1520414096.171, 1520414097.107, 1520414098.043, 1520414099.291, 1520414100.539, 1520414101.475, 1520414103.035, 1520414103.971, 1520414105.219, 1520414106.155, 1520414107.403, 1520414108.651, 1520414109.899, 1520414111.147, 1520414112.083, 1520414113.019, 1520414114.267, 1520414115.515, 1520414116.451, 1520414117.699, 1520414118.947, 1520414119.883, 1520414121.131, 1520414122.379, 1520414123.315, 1520414124.875, 1520414125.811, 1520414127.059, 1520414127.995, 1520414129.243, 1520414130.491, 1520414131.739, 1520414132.675, 1520414133.923, 1520414134.859, 1520414136.107, 1520414137.355, 1520414138.291, 1520414139.539, 1520414140.553, 1520414141.848, 1520414143.096, 1520414144.344, 1520414145.28, 1520414146.528, 1520414147.776, 1520414148.712, 1520414149.96, 1520414151.208, 1520414152.144, 1520414153.392, 1520414154.64, 1520414155.576, 1520414156.824, 1520414158.072, 1520414159.008, 1520414160.256, 1520414161.504, 1520414162.44, 1520414163.688, 1520414164.936, 1520414165.872, 1520414167.12, 1520414168.368, 1520414169.304, 1520414170.552, 1520414171.8, 1520414172.736, 1520414173.984, 1520414175.232, 1520414176.48, 1520414177.416, 1520414178.664, 1520414179.912, 1520414180.848, 1520414182.096, 1520414183.344, 1520414184.28, 1520414185.528, 1520414186.776, 1520414187.712, 1520414188.96, 1520414190.208, 1520414191.144, 1520414192.08, 1520414193.328, 1520414194.576, 1520414195.824, 1520414197.072, 1520414198.008, 1520414199.006, 1520414200.566, 1520414201.502, 1520414202.75, 1520414203.998, 1520414204.934, 1520414206.182, 1520414207.118, 1520414208.366, 1520414209.614, 1520414210.862, 1520414211.798, 1520414213.14, 1520414214.138, 1520414215.386, 1520414216.322, 1520414217.57, 1520414218.818, 1520414220.066, 1520414221.002, 1520414222.25, 1520414223.498, 1520414224.434, 1520414225.682, 1520414226.93, 1520414227.897, 1520414229.145, 1520414230.393, 1520414231.329, 1520414232.577, 1520414233.825, 1520414234.761, 1520414235.697, 1520414236.945, 1520414238.193, 1520414239.441, 1520414240.689, 1520414241.625, 1520414242.561, 1520414243.809, 1520414245.057, 1520414245.993, 1520414247.553, 1520414248.489, 1520414249.519, 1520414250.767, 1520414252.015, 1520414252.951, 1520414254.214, 1520414255.462, 1520414256.398, 1520414257.646, 1520414258.91, 1520414259.846, 1520414261.094, 1520414262.342, 1520414263.59, 1520414264.526, 1520414265.462, 1520414267.022, 1520414267.958, 1520414269.206, 1520414270.454, 1520414271.39, 1520414272.638, 1520414273.886, 1520414274.822, 1520414276.117, 1520414277.365, 1520414278.301, 1520414279.237, 1520414280.485, 1520414281.733, 1520414282.981, 1520414284.229, 1520414285.165, 1520414286.163, 1520414287.411, 1520414288.659, 1520414289.907, 1520414291.155, 1520414292.091, 1520414293.339, 1520414294.275, 1520414295.523, 1520414296.771, 1520414298.019, 1520414299.267, 1520414300.234, 1520414301.17, 1520414302.73, 1520414303.666, 1520414304.914, 1520414306.162, 1520414307.098, 1520414308.034, 1520414309.298, 1520414310.546, 1520414311.482, 1520414312.73, 1520414313.978, 1520414314.976, 1520414316.224, 1520414317.472, 1520414318.408, 1520414319.656, 1520414320.904, 1520414321.84, 1520414323.088, 1520414324.336, 1520414325.272, 1520414326.52, 1520414327.768, 1520414328.736, 1520414329.984, 1520414331.232, 1520414332.168, 1520414333.416, 1520414334.679, 1520414335.615, 1520414336.863, 1520414338.111, 1520414339.359, 1520414340.295, 1520414341.543, 1520414342.791, 1520414343.727, 1520414344.975, 1520414346.223, 1520414347.159, 1520414348.407, 1520414349.655, 1520414350.7, 1520414351.714, 1520414352.962, 1520414354.21, 1520414355.146, 1520414356.394, 1520414357.642, 1520414358.578, 1520414359.826, 1520414361.074, 1520414362.01, 1520414363.258, 1520414364.506, 1520414365.536, 1520414366.784, 1520414368.032, 1520414368.984, 1520414370.232, 1520414371.48, 1520414372.416, 1520414373.664, 1520414374.912, 1520414375.848, 1520414377.096, 1520414378.344, 1520414379.28, 1520414380.528, 1520414381.776, 1520414382.712, 1520414383.96, 1520414385.208, 1520414386.456, 1520414387.392, 1520414388.64, 1520414389.888, 1520414390.824, 1520414392.072, 1520414393.32, 1520414394.256, 1520414395.504, 1520414396.752, 1520414397.688, 1520414398.936, 1520414400.184, 1520414401.12, 1520414402.087, 1520414403.335, 1520414404.583, 1520414405.831, 1520414406.767, 1520414408.015, 1520414408.951, 1520414410.199, 1520414411.447, 1520414412.695, 1520414414.036, 1520414414.972, 1520414415.908, 1520414417.156, 1520414418.404, 1520414419.34, 1520414420.9, 1520414421.836, 1520414422.866, 1520414424.114, 1520414425.362, 1520414426.298, 1520414427.546, 1520414428.794, 1520414429.855, 1520414430.853, 1520414432.101, 1520414433.349, 1520414434.285, 1520414435.627, 1520414436.563, 1520414437.546, 1520414438.809, 1520414440.057, 1520414441.305, 1520414442.553, 1520414443.489, 1520414444.737, 1520414445.673, 1520414447.233, 1520414448.169, 1520414449.417, 1520414450.665, 1520414451.664, 1520414452.631, 1520414453.879, 1520414455.127, 1520414456.063, 1520414457.311, 1520414458.294, 1520414459.62, 1520414460.868, 1520414462.116, 1520414463.052, 1520414464.315, 1520414465.563, 1520414466.499, 1520414467.747, 1520414468.995, 1520414469.931, 1520414471.179, 1520414472.427, 1520414473.394, 1520414474.642, 1520414475.89, 1520414476.826, 1520414478.074, 1520414479.322, 1520414480.258, 1520414481.194, 1520414482.754, 1520414483.69, 1520414484.938, 1520414486.186, 1520414487.122, 1520414488.37, 1520414489.618, 1520414490.866, 1520414491.802, 1520414493.05, 1520414494.298, 1520414495.234, 1520414496.482, 1520414497.73, 1520414498.666, 1520414499.914, 1520414501.162, 1520414502.098, 1520414503.346, 1520414504.594, 1520414505.53, 1520414506.778, 1520414508.026, 1520414508.978, 1520414509.914, 1520414511.162, 1520414512.41, 1520414513.658, 1520414515.0, 1520414515.936, 1520414516.872, 1520414518.12, 1520414519.368, 1520414520.616, 1520414521.864, 1520414522.8, 1520414523.829, 1520414525.077, 1520414526.325, 1520414527.261, 1520414528.509, 1520414529.757, 1520414530.693, 1520414531.941, 1520414533.189, 1520414534.437, 1520414535.373, 1520414536.621, 1520414537.557, 1520414538.524, 1520414540.084, 1520414541.332, 1520414542.268, 1520414543.548, 1520414544.484, 1520414545.732, 1520414546.668, 1520414548.228, 1520414549.164, 1520414550.412, 1520414551.66, 1520414552.596, 1520414553.532, 1520414554.78, 1520414556.028, 1520414557.276, 1520414558.524, 1520414559.475, 1520414560.411, 1520414561.659, 1520414562.907, 1520414563.843, 1520414565.263, 1520414566.214, 1520414567.213, 1520414568.461, 1520414569.709, 1520414570.957, 1520414572.205, 1520414573.141, 1520414574.389, 1520414575.325, 1520414576.573, 1520414577.821, 1520414578.772, 1520414580.114, 1520414581.05, 1520414582.017, 1520414583.265, 1520414584.825, 1520414585.761, 1520414587.009, 1520414587.945, 1520414589.193, 1520414590.441, 1520414591.689, 1520414592.625, 1520414593.873, 1520414595.121, 1520414596.057, 1520414596.993, 1520414598.241, 1520414599.489, 1520414600.737, 1520414601.767, 1520414603.015, 1520414603.951, 1520414605.199, 1520414606.447, 1520414607.695, 1520414608.943, 1520414609.879, 1520414610.908, 1520414612.156, 1520414613.404, 1520414614.34, 1520414615.588, 1520414616.836, 1520414617.772, 1520414619.02, 1520414620.268, 1520414621.204, 1520414622.452, 1520414623.7, 1520414624.636, 1520414625.884, 1520414627.132, 1520414628.38, 1520414629.316, 1520414630.627, 1520414631.563, 1520414632.811, 1520414634.059, 1520414635.307, 1520414636.243, 1520414637.506, 1520414638.442, 1520414639.519, 1520414640.767, 1520414642.015, 1520414642.951, 1520414644.199, 1520414645.447, 1520414646.383, 1520414647.631, 1520414648.879, 1520414650.127, 1520414651.063, 1520414652.404, 1520414653.34, 1520414654.308, 1520414655.556, 1520414656.804, 1520414658.052, 1520414659.3, 1520414660.251, 1520414661.187, 1520414662.435, 1520414663.683, 1520414664.931, 1520414665.883, 1520414667.131, 1520414668.082, 1520414669.377], \"y\": [30.0, 31.0, 32.0, 34.0, 35.0, 36.0, 37.0, 38.0, 39.0, 40.0, 42.0, 43.0, 44.0, 45.0, 46.0, 47.0, 49.0, 50.0, 51.0, 52.0, 53.0, 54.0, 55.0, 56.0, 58.0, 59.0, 0.0, 1.0, 2.0, 3.0, 4.0, 6.0, 7.0, 8.0, 9.0, 10.0, 11.0, 12.0, 14.0, 15.0, 16.0, 17.0, 18.0, 19.0, 20.0, 22.0, 23.0, 24.0, 25.0, 26.0, 27.0, 29.0, 30.0, 31.0, 32.0, 33.0, 34.0, 35.0, 37.0, 38.0, 39.0, 40.0, 41.0, 42.0, 44.0, 45.0, 46.0, 47.0, 48.0, 49.0, 50.0, 51.0, 53.0, 54.0, 55.0, 56.0, 57.0, 58.0, 0.0, 1.0, 2.0, 3.0, 4.0, 5.0, 6.0, 8.0, 9.0, 10.0, 11.0, 12.0, 13.0, 15.0, 16.0, 17.0, 18.0, 19.0, 20.0, 21.0, 23.0, 24.0, 25.0, 26.0, 27.0, 28.0, 29.0, 31.0, 32.0, 33.0, 34.0, 35.0, 36.0, 37.0, 39.0, 40.0, 41.0, 42.0, 43.0, 44.0, 45.0, 46.0, 48.0, 49.0, 50.0, 51.0, 52.0, 53.0, 55.0, 56.0, 57.0, 58.0, 59.0, 0.0, 1.0, 3.0, 4.0, 5.0, 6.0, 7.0, 8.0, 10.0, 11.0, 12.0, 13.0, 14.0, 15.0, 16.0, 18.0, 19.0, 20.0, 21.0, 22.0, 23.0, 24.0, 25.0, 27.0, 28.0, 29.0, 30.0, 31.0, 32.0, 34.0, 35.0, 36.0, 37.0, 38.0, 39.0, 40.0, 42.0, 43.0, 44.0, 45.0, 46.0, 47.0, 49.0, 50.0, 51.0, 52.0, 53.0, 54.0, 55.0, 57.0, 58.0, 59.0, 0.0, 1.0, 2.0, 3.0, 5.0, 6.0, 7.0, 8.0, 9.0, 10.0, 12.0, 13.0, 14.0, 15.0, 16.0, 17.0, 18.0, 19.0, 21.0, 22.0, 23.0, 24.0, 25.0, 26.0, 27.0, 29.0, 30.0, 31.0, 32.0, 33.0, 34.0, 36.0, 37.0, 38.0, 39.0, 40.0, 41.0, 42.0, 44.0, 45.0, 46.0, 47.0, 48.0, 49.0, 50.0, 52.0, 53.0, 54.0, 55.0, 56.0, 57.0, 59.0, 0.0, 1.0, 2.0, 3.0, 4.0, 5.0, 7.0, 8.0, 9.0, 10.0, 11.0, 12.0, 13.0, 15.0, 16.0, 17.0, 18.0, 19.0, 20.0, 21.0, 23.0, 24.0, 25.0, 26.0, 27.0, 28.0, 30.0, 31.0, 32.0, 33.0, 34.0, 35.0, 36.0, 38.0, 39.0, 40.0, 41.0, 42.0, 43.0, 45.0, 46.0, 47.0, 48.0, 49.0, 50.0, 51.0, 53.0, 54.0, 55.0, 56.0, 57.0, 58.0, 59.0, 0.0, 2.0, 3.0, 4.0, 5.0, 6.0, 7.0, 8.0, 10.0, 11.0, 12.0, 13.0, 14.0, 15.0, 17.0, 18.0, 19.0, 20.0, 21.0, 22.0, 23.0, 25.0, 26.0, 27.0, 28.0, 29.0, 30.0, 31.0, 33.0, 34.0, 35.0, 36.0, 37.0, 38.0, 40.0, 41.0, 42.0, 43.0, 44.0, 45.0, 46.0, 47.0, 49.0, 50.0, 51.0, 52.0, 53.0, 54.0, 56.0, 57.0, 58.0, 59.0, 0.0, 1.0, 2.0, 4.0, 5.0, 6.0, 7.0, 8.0, 9.0, 11.0, 12.0, 13.0, 14.0, 15.0, 16.0, 17.0, 19.0, 20.0, 21.0, 22.0, 23.0, 24.0, 25.0, 27.0, 28.0, 29.0, 30.0, 31.0, 32.0, 33.0, 35.0, 36.0, 37.0, 38.0, 39.0, 40.0, 41.0, 43.0, 44.0, 45.0, 46.0, 47.0, 48.0, 49.0, 51.0, 52.0, 53.0, 54.0, 55.0, 56.0, 58.0, 59.0, 0.0, 1.0, 2.0, 3.0, 4.0, 6.0, 7.0, 8.0, 9.0, 10.0, 11.0, 13.0, 14.0, 15.0, 16.0, 17.0, 18.0, 19.0, 21.0, 22.0, 23.0, 24.0, 25.0, 26.0, 27.0, 28.0, 30.0, 31.0, 32.0, 33.0, 34.0, 35.0, 36.0, 38.0, 39.0, 40.0, 41.0, 42.0, 43.0, 45.0, 46.0, 47.0, 48.0, 49.0, 50.0, 51.0, 53.0, 54.0, 55.0, 56.0, 57.0, 58.0, 59.0, 0.0, 2.0, 3.0, 4.0, 5.0, 6.0, 7.0, 8.0, 10.0, 11.0, 12.0, 13.0, 14.0, 15.0, 16.0, 18.0, 19.0, 20.0, 21.0, 22.0, 23.0, 25.0, 26.0, 27.0, 28.0, 29.0, 30.0, 31.0, 33.0, 34.0, 35.0, 36.0, 37.0, 38.0, 40.0, 41.0, 42.0, 43.0, 44.0, 45.0, 46.0, 48.0, 49.0, 50.0, 51.0, 52.0, 53.0, 55.0, 56.0, 57.0, 58.0, 59.0, 0.0, 1.0, 2.0, 4.0, 5.0, 6.0, 7.0, 8.0, 9.0, 10.0, 12.0, 13.0, 14.0, 15.0, 16.0, 17.0, 19.0, 20.0, 21.0, 22.0, 23.0, 24.0, 25.0, 27.0, 28.0, 29.0], \"mode\": \"markers\"}], {}, {\"showLink\": true, \"linkText\": \"Export to plot.ly\"})});</script>"
      ]
     },
     "metadata": {},
     "output_type": "execute_result"
    }
   ],
   "source": [
    "# Plot via Plotly (requires plotly to be installed)\n",
    "\n",
    "from plotly.offline import download_plotlyjs, init_notebook_mode, plot, iplot\n",
    "# run at the start of every ipython notebook to use plotly.offline\n",
    "# this injects the plotly.js source files into the notebook\n",
    "init_notebook_mode(connected=True)\n",
    "\n",
    "import plotly.graph_objs as go\n",
    "trace = go.Scatter(\n",
    "    x = data[\"globalSeconds\"],\n",
    "    y = data[\"D_TEST_DXNODE\"],\n",
    "    mode='markers',\n",
    "    )\n",
    "\n",
    "iplot([trace])"
   ]
  },
  {
   "cell_type": "code",
   "execution_count": null,
   "metadata": {
    "collapsed": true
   },
   "outputs": [],
   "source": []
  }
 ],
 "metadata": {
  "kernelspec": {
   "display_name": "Python 3",
   "language": "python",
   "name": "python3"
  },
  "language_info": {
   "codemirror_mode": {
    "name": "ipython",
    "version": 3
   },
   "file_extension": ".py",
   "mimetype": "text/x-python",
   "name": "python",
   "nbconvert_exporter": "python",
   "pygments_lexer": "ipython3",
   "version": "3.6.3"
  }
 },
 "nbformat": 4,
 "nbformat_minor": 2
}
