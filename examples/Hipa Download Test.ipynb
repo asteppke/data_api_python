{
 "cells": [
  {
   "cell_type": "code",
   "execution_count": 1,
   "metadata": {},
   "outputs": [],
   "source": [
    "import data_api3.reader as reader\n",
    "import pandas as pd"
   ]
  },
  {
   "cell_type": "code",
   "execution_count": 131,
   "metadata": {},
   "outputs": [],
   "source": [
    "def wrap(data: dict) -> pd.DataFrame:\n",
    "    \n",
    "    dataframe = None\n",
    "    \n",
    "    for key in data:\n",
    "        df = pd.DataFrame(data[key])\n",
    "        df = df.drop(columns=[\"pulse_id\"])  # were not interested in this\n",
    "        df = df.set_index('timestamp')  # set timestamp as index\n",
    "\n",
    "        if dataframe is None:\n",
    "            dataframe = df\n",
    "        else:\n",
    "            dataframe = pd.merge(dataframe, df, how='outer', on='timestamp')\n",
    "            \n",
    "    dataframe.fillna(method='pad', inplace=True)  # fill NaN with last known value (assuming recording system worked without error)\n",
    "\n",
    "    return dataframe\n",
    "            "
   ]
  },
  {
   "cell_type": "code",
   "execution_count": 2,
   "metadata": {},
   "outputs": [],
   "source": [
    "query = {\n",
    "  \"channels\": [\"MHC1:IST:2\", \"MHC2:IST:2\"],\n",
    "  \"range\": {\n",
    "    \"type\": \"date\",\n",
    "    \"startDate\": \"2019-11-06T10:00:00.000000000Z\",\n",
    "    \"endDate\": \"2019-11-06T10:10:00.000000000Z\"\n",
    "  }\n",
    "}\n"
   ]
  },
  {
   "cell_type": "code",
   "execution_count": 3,
   "metadata": {},
   "outputs": [
    {
     "name": "stdout",
     "output_type": "stream",
     "text": [
      "25, 25\n"
     ]
    }
   ],
   "source": [
    "data = reader.request(query, url=\"http://hipa-daq-01:8090/api/v1/query\")"
   ]
  },
  {
   "cell_type": "code",
   "execution_count": 5,
   "metadata": {},
   "outputs": [
    {
     "data": {
      "text/plain": [
       "dict_keys(['MHC1:IST:2', 'MHC2:IST:2'])"
      ]
     },
     "execution_count": 5,
     "metadata": {},
     "output_type": "execute_result"
    }
   ],
   "source": [
    "data.keys()"
   ]
  },
  {
   "cell_type": "code",
   "execution_count": 96,
   "metadata": {},
   "outputs": [],
   "source": [
    "df1 = pd.DataFrame(data[\"MHC1:IST:2\"])"
   ]
  },
  {
   "cell_type": "code",
   "execution_count": 97,
   "metadata": {},
   "outputs": [
    {
     "data": {
      "text/html": [
       "<div>\n",
       "<style scoped>\n",
       "    .dataframe tbody tr th:only-of-type {\n",
       "        vertical-align: middle;\n",
       "    }\n",
       "\n",
       "    .dataframe tbody tr th {\n",
       "        vertical-align: top;\n",
       "    }\n",
       "\n",
       "    .dataframe thead th {\n",
       "        text-align: right;\n",
       "    }\n",
       "</style>\n",
       "<table border=\"1\" class=\"dataframe\">\n",
       "  <thead>\n",
       "    <tr style=\"text-align: right;\">\n",
       "      <th></th>\n",
       "      <th>timestamp</th>\n",
       "      <th>MHC1:IST:2</th>\n",
       "    </tr>\n",
       "  </thead>\n",
       "  <tbody>\n",
       "    <tr>\n",
       "      <td>0</td>\n",
       "      <td>1573034400006541420</td>\n",
       "      <td>1819.7</td>\n",
       "    </tr>\n",
       "    <tr>\n",
       "      <td>1</td>\n",
       "      <td>1573034400206541420</td>\n",
       "      <td>1819.1</td>\n",
       "    </tr>\n",
       "    <tr>\n",
       "      <td>2</td>\n",
       "      <td>1573034400406541420</td>\n",
       "      <td>1819.5</td>\n",
       "    </tr>\n",
       "    <tr>\n",
       "      <td>3</td>\n",
       "      <td>1573034400606541420</td>\n",
       "      <td>1820.0</td>\n",
       "    </tr>\n",
       "    <tr>\n",
       "      <td>4</td>\n",
       "      <td>1573034400806541420</td>\n",
       "      <td>1819.9</td>\n",
       "    </tr>\n",
       "  </tbody>\n",
       "</table>\n",
       "</div>"
      ],
      "text/plain": [
       "             timestamp  MHC1:IST:2\n",
       "0  1573034400006541420      1819.7\n",
       "1  1573034400206541420      1819.1\n",
       "2  1573034400406541420      1819.5\n",
       "3  1573034400606541420      1820.0\n",
       "4  1573034400806541420      1819.9"
      ]
     },
     "execution_count": 97,
     "metadata": {},
     "output_type": "execute_result"
    }
   ],
   "source": [
    "df1 = df1.drop(columns=[\"pulse_id\"])\n",
    "df1.head()"
   ]
  },
  {
   "cell_type": "code",
   "execution_count": 98,
   "metadata": {},
   "outputs": [
    {
     "data": {
      "text/plain": [
       "2804"
      ]
     },
     "execution_count": 98,
     "metadata": {},
     "output_type": "execute_result"
    }
   ],
   "source": [
    "df1 = df1.set_index('timestamp')\n",
    "len(df1)"
   ]
  },
  {
   "cell_type": "code",
   "execution_count": 99,
   "metadata": {},
   "outputs": [],
   "source": [
    "df2 = pd.DataFrame(data[\"MHC2:IST:2\"])"
   ]
  },
  {
   "cell_type": "code",
   "execution_count": 100,
   "metadata": {},
   "outputs": [
    {
     "data": {
      "text/html": [
       "<div>\n",
       "<style scoped>\n",
       "    .dataframe tbody tr th:only-of-type {\n",
       "        vertical-align: middle;\n",
       "    }\n",
       "\n",
       "    .dataframe tbody tr th {\n",
       "        vertical-align: top;\n",
       "    }\n",
       "\n",
       "    .dataframe thead th {\n",
       "        text-align: right;\n",
       "    }\n",
       "</style>\n",
       "<table border=\"1\" class=\"dataframe\">\n",
       "  <thead>\n",
       "    <tr style=\"text-align: right;\">\n",
       "      <th></th>\n",
       "      <th>timestamp</th>\n",
       "      <th>MHC2:IST:2</th>\n",
       "    </tr>\n",
       "  </thead>\n",
       "  <tbody>\n",
       "    <tr>\n",
       "      <td>0</td>\n",
       "      <td>1573034400006541420</td>\n",
       "      <td>1824.8</td>\n",
       "    </tr>\n",
       "    <tr>\n",
       "      <td>1</td>\n",
       "      <td>1573034400206541420</td>\n",
       "      <td>1824.7</td>\n",
       "    </tr>\n",
       "    <tr>\n",
       "      <td>2</td>\n",
       "      <td>1573034400406541420</td>\n",
       "      <td>1824.4</td>\n",
       "    </tr>\n",
       "    <tr>\n",
       "      <td>3</td>\n",
       "      <td>1573034400606541420</td>\n",
       "      <td>1824.7</td>\n",
       "    </tr>\n",
       "    <tr>\n",
       "      <td>4</td>\n",
       "      <td>1573034400806541420</td>\n",
       "      <td>1824.5</td>\n",
       "    </tr>\n",
       "  </tbody>\n",
       "</table>\n",
       "</div>"
      ],
      "text/plain": [
       "             timestamp  MHC2:IST:2\n",
       "0  1573034400006541420      1824.8\n",
       "1  1573034400206541420      1824.7\n",
       "2  1573034400406541420      1824.4\n",
       "3  1573034400606541420      1824.7\n",
       "4  1573034400806541420      1824.5"
      ]
     },
     "execution_count": 100,
     "metadata": {},
     "output_type": "execute_result"
    }
   ],
   "source": [
    "df2 = df2.drop(columns=[\"pulse_id\"])\n",
    "df2.head()"
   ]
  },
  {
   "cell_type": "code",
   "execution_count": 101,
   "metadata": {},
   "outputs": [
    {
     "data": {
      "text/plain": [
       "2793"
      ]
     },
     "execution_count": 101,
     "metadata": {},
     "output_type": "execute_result"
    }
   ],
   "source": [
    "df2 = df2.set_index('timestamp')\n",
    "len(df2)"
   ]
  },
  {
   "cell_type": "code",
   "execution_count": 102,
   "metadata": {},
   "outputs": [],
   "source": [
    "r = pd.merge(df1, df2, how='outer', on='timestamp')"
   ]
  },
  {
   "cell_type": "code",
   "execution_count": 103,
   "metadata": {},
   "outputs": [
    {
     "data": {
      "text/plain": [
       "2981"
      ]
     },
     "execution_count": 103,
     "metadata": {},
     "output_type": "execute_result"
    }
   ],
   "source": [
    "len(r)"
   ]
  },
  {
   "cell_type": "code",
   "execution_count": 107,
   "metadata": {},
   "outputs": [
    {
     "data": {
      "text/html": [
       "<div>\n",
       "<style scoped>\n",
       "    .dataframe tbody tr th:only-of-type {\n",
       "        vertical-align: middle;\n",
       "    }\n",
       "\n",
       "    .dataframe tbody tr th {\n",
       "        vertical-align: top;\n",
       "    }\n",
       "\n",
       "    .dataframe thead th {\n",
       "        text-align: right;\n",
       "    }\n",
       "</style>\n",
       "<table border=\"1\" class=\"dataframe\">\n",
       "  <thead>\n",
       "    <tr style=\"text-align: right;\">\n",
       "      <th></th>\n",
       "      <th>MHC1:IST:2</th>\n",
       "      <th>MHC2:IST:2</th>\n",
       "    </tr>\n",
       "    <tr>\n",
       "      <th>timestamp</th>\n",
       "      <th></th>\n",
       "      <th></th>\n",
       "    </tr>\n",
       "  </thead>\n",
       "  <tbody>\n",
       "    <tr>\n",
       "      <td>1573034400006541420</td>\n",
       "      <td>1819.7</td>\n",
       "      <td>1824.8</td>\n",
       "    </tr>\n",
       "    <tr>\n",
       "      <td>1573034400206541420</td>\n",
       "      <td>1819.1</td>\n",
       "      <td>1824.7</td>\n",
       "    </tr>\n",
       "    <tr>\n",
       "      <td>1573034400406541420</td>\n",
       "      <td>1819.5</td>\n",
       "      <td>1824.4</td>\n",
       "    </tr>\n",
       "    <tr>\n",
       "      <td>1573034400606541420</td>\n",
       "      <td>1820.0</td>\n",
       "      <td>1824.7</td>\n",
       "    </tr>\n",
       "    <tr>\n",
       "      <td>1573034400806541420</td>\n",
       "      <td>1819.9</td>\n",
       "      <td>1824.5</td>\n",
       "    </tr>\n",
       "    <tr>\n",
       "      <td>...</td>\n",
       "      <td>...</td>\n",
       "      <td>...</td>\n",
       "    </tr>\n",
       "    <tr>\n",
       "      <td>1573034999008022410</td>\n",
       "      <td>1819.8</td>\n",
       "      <td>1824.1</td>\n",
       "    </tr>\n",
       "    <tr>\n",
       "      <td>1573034999208022410</td>\n",
       "      <td>1821.8</td>\n",
       "      <td>1826.3</td>\n",
       "    </tr>\n",
       "    <tr>\n",
       "      <td>1573034999408022410</td>\n",
       "      <td>1820.0</td>\n",
       "      <td>1824.9</td>\n",
       "    </tr>\n",
       "    <tr>\n",
       "      <td>1573034999608022410</td>\n",
       "      <td>1819.5</td>\n",
       "      <td>1823.8</td>\n",
       "    </tr>\n",
       "    <tr>\n",
       "      <td>1573034999808022410</td>\n",
       "      <td>1820.4</td>\n",
       "      <td>1824.8</td>\n",
       "    </tr>\n",
       "  </tbody>\n",
       "</table>\n",
       "<p>2981 rows × 2 columns</p>\n",
       "</div>"
      ],
      "text/plain": [
       "                     MHC1:IST:2  MHC2:IST:2\n",
       "timestamp                                  \n",
       "1573034400006541420      1819.7      1824.8\n",
       "1573034400206541420      1819.1      1824.7\n",
       "1573034400406541420      1819.5      1824.4\n",
       "1573034400606541420      1820.0      1824.7\n",
       "1573034400806541420      1819.9      1824.5\n",
       "...                         ...         ...\n",
       "1573034999008022410      1819.8      1824.1\n",
       "1573034999208022410      1821.8      1826.3\n",
       "1573034999408022410      1820.0      1824.9\n",
       "1573034999608022410      1819.5      1823.8\n",
       "1573034999808022410      1820.4      1824.8\n",
       "\n",
       "[2981 rows x 2 columns]"
      ]
     },
     "execution_count": 107,
     "metadata": {},
     "output_type": "execute_result"
    }
   ],
   "source": [
    "r.sort_index(inplace=True)\n",
    "r"
   ]
  },
  {
   "cell_type": "code",
   "execution_count": 104,
   "metadata": {},
   "outputs": [
    {
     "data": {
      "text/html": [
       "<div>\n",
       "<style scoped>\n",
       "    .dataframe tbody tr th:only-of-type {\n",
       "        vertical-align: middle;\n",
       "    }\n",
       "\n",
       "    .dataframe tbody tr th {\n",
       "        vertical-align: top;\n",
       "    }\n",
       "\n",
       "    .dataframe thead th {\n",
       "        text-align: right;\n",
       "    }\n",
       "</style>\n",
       "<table border=\"1\" class=\"dataframe\">\n",
       "  <thead>\n",
       "    <tr style=\"text-align: right;\">\n",
       "      <th></th>\n",
       "      <th>MHC2:IST:2</th>\n",
       "    </tr>\n",
       "    <tr>\n",
       "      <th>timestamp</th>\n",
       "      <th></th>\n",
       "    </tr>\n",
       "  </thead>\n",
       "  <tbody>\n",
       "    <tr>\n",
       "      <td>1573034999008022410</td>\n",
       "      <td>1824.1</td>\n",
       "    </tr>\n",
       "    <tr>\n",
       "      <td>1573034999208022410</td>\n",
       "      <td>1826.3</td>\n",
       "    </tr>\n",
       "    <tr>\n",
       "      <td>1573034999408022410</td>\n",
       "      <td>1824.9</td>\n",
       "    </tr>\n",
       "    <tr>\n",
       "      <td>1573034999608022410</td>\n",
       "      <td>1823.8</td>\n",
       "    </tr>\n",
       "    <tr>\n",
       "      <td>1573034999808022410</td>\n",
       "      <td>1824.8</td>\n",
       "    </tr>\n",
       "  </tbody>\n",
       "</table>\n",
       "</div>"
      ],
      "text/plain": [
       "                     MHC2:IST:2\n",
       "timestamp                      \n",
       "1573034999008022410      1824.1\n",
       "1573034999208022410      1826.3\n",
       "1573034999408022410      1824.9\n",
       "1573034999608022410      1823.8\n",
       "1573034999808022410      1824.8"
      ]
     },
     "execution_count": 104,
     "metadata": {},
     "output_type": "execute_result"
    }
   ],
   "source": [
    "df2.sort_index(inplace=True)\n",
    "df2.tail()"
   ]
  },
  {
   "cell_type": "code",
   "execution_count": 105,
   "metadata": {},
   "outputs": [
    {
     "data": {
      "text/html": [
       "<div>\n",
       "<style scoped>\n",
       "    .dataframe tbody tr th:only-of-type {\n",
       "        vertical-align: middle;\n",
       "    }\n",
       "\n",
       "    .dataframe tbody tr th {\n",
       "        vertical-align: top;\n",
       "    }\n",
       "\n",
       "    .dataframe thead th {\n",
       "        text-align: right;\n",
       "    }\n",
       "</style>\n",
       "<table border=\"1\" class=\"dataframe\">\n",
       "  <thead>\n",
       "    <tr style=\"text-align: right;\">\n",
       "      <th></th>\n",
       "      <th>MHC1:IST:2</th>\n",
       "    </tr>\n",
       "    <tr>\n",
       "      <th>timestamp</th>\n",
       "      <th></th>\n",
       "    </tr>\n",
       "  </thead>\n",
       "  <tbody>\n",
       "    <tr>\n",
       "      <td>1573034999008022410</td>\n",
       "      <td>1819.8</td>\n",
       "    </tr>\n",
       "    <tr>\n",
       "      <td>1573034999208022410</td>\n",
       "      <td>1821.8</td>\n",
       "    </tr>\n",
       "    <tr>\n",
       "      <td>1573034999408022410</td>\n",
       "      <td>1820.0</td>\n",
       "    </tr>\n",
       "    <tr>\n",
       "      <td>1573034999608022410</td>\n",
       "      <td>1819.5</td>\n",
       "    </tr>\n",
       "    <tr>\n",
       "      <td>1573034999808022410</td>\n",
       "      <td>1820.4</td>\n",
       "    </tr>\n",
       "  </tbody>\n",
       "</table>\n",
       "</div>"
      ],
      "text/plain": [
       "                     MHC1:IST:2\n",
       "timestamp                      \n",
       "1573034999008022410      1819.8\n",
       "1573034999208022410      1821.8\n",
       "1573034999408022410      1820.0\n",
       "1573034999608022410      1819.5\n",
       "1573034999808022410      1820.4"
      ]
     },
     "execution_count": 105,
     "metadata": {},
     "output_type": "execute_result"
    }
   ],
   "source": [
    "df1.sort_index(inplace=True)\n",
    "df1.tail()"
   ]
  },
  {
   "cell_type": "code",
   "execution_count": 84,
   "metadata": {},
   "outputs": [
    {
     "data": {
      "text/html": [
       "<div>\n",
       "<style scoped>\n",
       "    .dataframe tbody tr th:only-of-type {\n",
       "        vertical-align: middle;\n",
       "    }\n",
       "\n",
       "    .dataframe tbody tr th {\n",
       "        vertical-align: top;\n",
       "    }\n",
       "\n",
       "    .dataframe thead th {\n",
       "        text-align: right;\n",
       "    }\n",
       "</style>\n",
       "<table border=\"1\" class=\"dataframe\">\n",
       "  <thead>\n",
       "    <tr style=\"text-align: right;\">\n",
       "      <th></th>\n",
       "      <th>MHC2:IST:2</th>\n",
       "    </tr>\n",
       "    <tr>\n",
       "      <th>timestamp</th>\n",
       "      <th></th>\n",
       "    </tr>\n",
       "  </thead>\n",
       "  <tbody>\n",
       "    <tr>\n",
       "      <td>1573034990408022410</td>\n",
       "      <td>1825.6</td>\n",
       "    </tr>\n",
       "  </tbody>\n",
       "</table>\n",
       "</div>"
      ],
      "text/plain": [
       "                     MHC2:IST:2\n",
       "timestamp                      \n",
       "1573034990408022410      1825.6"
      ]
     },
     "execution_count": 84,
     "metadata": {},
     "output_type": "execute_result"
    }
   ],
   "source": [
    "df2.loc[[1573034990408022410]]"
   ]
  },
  {
   "cell_type": "code",
   "execution_count": 93,
   "metadata": {},
   "outputs": [
    {
     "data": {
      "text/plain": [
       "2616"
      ]
     },
     "execution_count": 93,
     "metadata": {},
     "output_type": "execute_result"
    }
   ],
   "source": [
    "len(set(df1['timestamp']) & set(df2['timestamp']))"
   ]
  },
  {
   "cell_type": "code",
   "execution_count": 94,
   "metadata": {},
   "outputs": [
    {
     "data": {
      "text/plain": [
       "2981"
      ]
     },
     "execution_count": 94,
     "metadata": {},
     "output_type": "execute_result"
    }
   ],
   "source": [
    "len(set(df1['timestamp']) | set(df2['timestamp']))"
   ]
  },
  {
   "cell_type": "code",
   "execution_count": 115,
   "metadata": {},
   "outputs": [
    {
     "data": {
      "text/plain": [
       "False    2804\n",
       "True      177\n",
       "Name: MHC1:IST:2, dtype: int64"
      ]
     },
     "execution_count": 115,
     "metadata": {},
     "output_type": "execute_result"
    }
   ],
   "source": [
    "pd.isna(r[\"MHC1:IST:2\"]).value_counts()"
   ]
  },
  {
   "cell_type": "code",
   "execution_count": 116,
   "metadata": {},
   "outputs": [
    {
     "data": {
      "text/plain": [
       "False    2793\n",
       "True      188\n",
       "Name: MHC2:IST:2, dtype: int64"
      ]
     },
     "execution_count": 116,
     "metadata": {},
     "output_type": "execute_result"
    }
   ],
   "source": [
    "pd.isna(r[\"MHC2:IST:2\"]).value_counts()"
   ]
  },
  {
   "cell_type": "code",
   "execution_count": 117,
   "metadata": {},
   "outputs": [
    {
     "data": {
      "text/html": [
       "<div>\n",
       "<style scoped>\n",
       "    .dataframe tbody tr th:only-of-type {\n",
       "        vertical-align: middle;\n",
       "    }\n",
       "\n",
       "    .dataframe tbody tr th {\n",
       "        vertical-align: top;\n",
       "    }\n",
       "\n",
       "    .dataframe thead th {\n",
       "        text-align: right;\n",
       "    }\n",
       "</style>\n",
       "<table border=\"1\" class=\"dataframe\">\n",
       "  <thead>\n",
       "    <tr style=\"text-align: right;\">\n",
       "      <th></th>\n",
       "      <th>MHC1:IST:2</th>\n",
       "      <th>MHC2:IST:2</th>\n",
       "    </tr>\n",
       "    <tr>\n",
       "      <th>timestamp</th>\n",
       "      <th></th>\n",
       "      <th></th>\n",
       "    </tr>\n",
       "  </thead>\n",
       "  <tbody>\n",
       "    <tr>\n",
       "      <td>1573034401806541420</td>\n",
       "      <td>1820.0</td>\n",
       "      <td>NaN</td>\n",
       "    </tr>\n",
       "    <tr>\n",
       "      <td>1573034402206541420</td>\n",
       "      <td>NaN</td>\n",
       "      <td>1825.5</td>\n",
       "    </tr>\n",
       "    <tr>\n",
       "      <td>1573034404006541420</td>\n",
       "      <td>NaN</td>\n",
       "      <td>1825.5</td>\n",
       "    </tr>\n",
       "    <tr>\n",
       "      <td>1573034404206541420</td>\n",
       "      <td>1820.1</td>\n",
       "      <td>NaN</td>\n",
       "    </tr>\n",
       "    <tr>\n",
       "      <td>1573034406406541420</td>\n",
       "      <td>1820.1</td>\n",
       "      <td>NaN</td>\n",
       "    </tr>\n",
       "    <tr>\n",
       "      <td>...</td>\n",
       "      <td>...</td>\n",
       "      <td>...</td>\n",
       "    </tr>\n",
       "    <tr>\n",
       "      <td>1573034982808022410</td>\n",
       "      <td>NaN</td>\n",
       "      <td>1824.9</td>\n",
       "    </tr>\n",
       "    <tr>\n",
       "      <td>1573034983408022410</td>\n",
       "      <td>NaN</td>\n",
       "      <td>1824.1</td>\n",
       "    </tr>\n",
       "    <tr>\n",
       "      <td>1573034990408022410</td>\n",
       "      <td>NaN</td>\n",
       "      <td>1825.6</td>\n",
       "    </tr>\n",
       "    <tr>\n",
       "      <td>1573034993208022410</td>\n",
       "      <td>1820.1</td>\n",
       "      <td>NaN</td>\n",
       "    </tr>\n",
       "    <tr>\n",
       "      <td>1573034996008022410</td>\n",
       "      <td>1820.0</td>\n",
       "      <td>NaN</td>\n",
       "    </tr>\n",
       "  </tbody>\n",
       "</table>\n",
       "<p>365 rows × 2 columns</p>\n",
       "</div>"
      ],
      "text/plain": [
       "                     MHC1:IST:2  MHC2:IST:2\n",
       "timestamp                                  \n",
       "1573034401806541420      1820.0         NaN\n",
       "1573034402206541420         NaN      1825.5\n",
       "1573034404006541420         NaN      1825.5\n",
       "1573034404206541420      1820.1         NaN\n",
       "1573034406406541420      1820.1         NaN\n",
       "...                         ...         ...\n",
       "1573034982808022410         NaN      1824.9\n",
       "1573034983408022410         NaN      1824.1\n",
       "1573034990408022410         NaN      1825.6\n",
       "1573034993208022410      1820.1         NaN\n",
       "1573034996008022410      1820.0         NaN\n",
       "\n",
       "[365 rows x 2 columns]"
      ]
     },
     "execution_count": 117,
     "metadata": {},
     "output_type": "execute_result"
    }
   ],
   "source": [
    "r[pd.isna(r[\"MHC1:IST:2\"]) | pd.isna(r[\"MHC2:IST:2\"])]"
   ]
  },
  {
   "cell_type": "code",
   "execution_count": 122,
   "metadata": {},
   "outputs": [],
   "source": [
    "r.fillna(method='pad', inplace=True)  # fill NaN with last known value (assuming recording system worked without error)"
   ]
  },
  {
   "cell_type": "code",
   "execution_count": 124,
   "metadata": {},
   "outputs": [
    {
     "data": {
      "text/html": [
       "<div>\n",
       "<style scoped>\n",
       "    .dataframe tbody tr th:only-of-type {\n",
       "        vertical-align: middle;\n",
       "    }\n",
       "\n",
       "    .dataframe tbody tr th {\n",
       "        vertical-align: top;\n",
       "    }\n",
       "\n",
       "    .dataframe thead th {\n",
       "        text-align: right;\n",
       "    }\n",
       "</style>\n",
       "<table border=\"1\" class=\"dataframe\">\n",
       "  <thead>\n",
       "    <tr style=\"text-align: right;\">\n",
       "      <th></th>\n",
       "      <th>MHC1:IST:2</th>\n",
       "      <th>MHC2:IST:2</th>\n",
       "    </tr>\n",
       "    <tr>\n",
       "      <th>timestamp</th>\n",
       "      <th></th>\n",
       "      <th></th>\n",
       "    </tr>\n",
       "  </thead>\n",
       "  <tbody>\n",
       "    <tr>\n",
       "      <td>1573034982808022410</td>\n",
       "      <td>1820.4</td>\n",
       "      <td>1824.9</td>\n",
       "    </tr>\n",
       "    <tr>\n",
       "      <td>1573034983408022410</td>\n",
       "      <td>1819.4</td>\n",
       "      <td>1824.1</td>\n",
       "    </tr>\n",
       "  </tbody>\n",
       "</table>\n",
       "</div>"
      ],
      "text/plain": [
       "                     MHC1:IST:2  MHC2:IST:2\n",
       "timestamp                                  \n",
       "1573034982808022410      1820.4      1824.9\n",
       "1573034983408022410      1819.4      1824.1"
      ]
     },
     "execution_count": 124,
     "metadata": {},
     "output_type": "execute_result"
    }
   ],
   "source": [
    "r.loc[[1573034982808022410, 1573034983408022410]]"
   ]
  },
  {
   "cell_type": "code",
   "execution_count": 132,
   "metadata": {},
   "outputs": [
    {
     "data": {
      "text/html": [
       "<div>\n",
       "<style scoped>\n",
       "    .dataframe tbody tr th:only-of-type {\n",
       "        vertical-align: middle;\n",
       "    }\n",
       "\n",
       "    .dataframe tbody tr th {\n",
       "        vertical-align: top;\n",
       "    }\n",
       "\n",
       "    .dataframe thead th {\n",
       "        text-align: right;\n",
       "    }\n",
       "</style>\n",
       "<table border=\"1\" class=\"dataframe\">\n",
       "  <thead>\n",
       "    <tr style=\"text-align: right;\">\n",
       "      <th></th>\n",
       "      <th>MHC1:IST:2</th>\n",
       "      <th>MHC2:IST:2</th>\n",
       "    </tr>\n",
       "    <tr>\n",
       "      <th>timestamp</th>\n",
       "      <th></th>\n",
       "      <th></th>\n",
       "    </tr>\n",
       "  </thead>\n",
       "  <tbody>\n",
       "    <tr>\n",
       "      <td>1573034400006541420</td>\n",
       "      <td>1819.7</td>\n",
       "      <td>1824.8</td>\n",
       "    </tr>\n",
       "    <tr>\n",
       "      <td>1573034400206541420</td>\n",
       "      <td>1819.1</td>\n",
       "      <td>1824.7</td>\n",
       "    </tr>\n",
       "    <tr>\n",
       "      <td>1573034400406541420</td>\n",
       "      <td>1819.5</td>\n",
       "      <td>1824.4</td>\n",
       "    </tr>\n",
       "    <tr>\n",
       "      <td>1573034400606541420</td>\n",
       "      <td>1820.0</td>\n",
       "      <td>1824.7</td>\n",
       "    </tr>\n",
       "    <tr>\n",
       "      <td>1573034400806541420</td>\n",
       "      <td>1819.9</td>\n",
       "      <td>1824.5</td>\n",
       "    </tr>\n",
       "    <tr>\n",
       "      <td>...</td>\n",
       "      <td>...</td>\n",
       "      <td>...</td>\n",
       "    </tr>\n",
       "    <tr>\n",
       "      <td>1573034975406839130</td>\n",
       "      <td>1820.4</td>\n",
       "      <td>1825.4</td>\n",
       "    </tr>\n",
       "    <tr>\n",
       "      <td>1573034979008022410</td>\n",
       "      <td>1820.4</td>\n",
       "      <td>1825.7</td>\n",
       "    </tr>\n",
       "    <tr>\n",
       "      <td>1573034982808022410</td>\n",
       "      <td>1820.4</td>\n",
       "      <td>1824.9</td>\n",
       "    </tr>\n",
       "    <tr>\n",
       "      <td>1573034983408022410</td>\n",
       "      <td>1820.4</td>\n",
       "      <td>1824.1</td>\n",
       "    </tr>\n",
       "    <tr>\n",
       "      <td>1573034990408022410</td>\n",
       "      <td>1820.4</td>\n",
       "      <td>1825.6</td>\n",
       "    </tr>\n",
       "  </tbody>\n",
       "</table>\n",
       "<p>2981 rows × 2 columns</p>\n",
       "</div>"
      ],
      "text/plain": [
       "                     MHC1:IST:2  MHC2:IST:2\n",
       "timestamp                                  \n",
       "1573034400006541420      1819.7      1824.8\n",
       "1573034400206541420      1819.1      1824.7\n",
       "1573034400406541420      1819.5      1824.4\n",
       "1573034400606541420      1820.0      1824.7\n",
       "1573034400806541420      1819.9      1824.5\n",
       "...                         ...         ...\n",
       "1573034975406839130      1820.4      1825.4\n",
       "1573034979008022410      1820.4      1825.7\n",
       "1573034982808022410      1820.4      1824.9\n",
       "1573034983408022410      1820.4      1824.1\n",
       "1573034990408022410      1820.4      1825.6\n",
       "\n",
       "[2981 rows x 2 columns]"
      ]
     },
     "execution_count": 132,
     "metadata": {},
     "output_type": "execute_result"
    }
   ],
   "source": [
    "wrap(data)"
   ]
  },
  {
   "cell_type": "code",
   "execution_count": 4,
   "metadata": {},
   "outputs": [
    {
     "data": {
      "text/html": [
       "<div>\n",
       "<style scoped>\n",
       "    .dataframe tbody tr th:only-of-type {\n",
       "        vertical-align: middle;\n",
       "    }\n",
       "\n",
       "    .dataframe tbody tr th {\n",
       "        vertical-align: top;\n",
       "    }\n",
       "\n",
       "    .dataframe thead th {\n",
       "        text-align: right;\n",
       "    }\n",
       "</style>\n",
       "<table border=\"1\" class=\"dataframe\">\n",
       "  <thead>\n",
       "    <tr style=\"text-align: right;\">\n",
       "      <th></th>\n",
       "      <th>MHC1:IST:2</th>\n",
       "      <th>MHC2:IST:2</th>\n",
       "    </tr>\n",
       "    <tr>\n",
       "      <th>timestamp</th>\n",
       "      <th></th>\n",
       "      <th></th>\n",
       "    </tr>\n",
       "  </thead>\n",
       "  <tbody>\n",
       "    <tr>\n",
       "      <td>1573034400006541420</td>\n",
       "      <td>1819.7</td>\n",
       "      <td>1824.8</td>\n",
       "    </tr>\n",
       "    <tr>\n",
       "      <td>1573034400206541420</td>\n",
       "      <td>1819.1</td>\n",
       "      <td>1824.7</td>\n",
       "    </tr>\n",
       "    <tr>\n",
       "      <td>1573034400406541420</td>\n",
       "      <td>1819.5</td>\n",
       "      <td>1824.4</td>\n",
       "    </tr>\n",
       "    <tr>\n",
       "      <td>1573034400606541420</td>\n",
       "      <td>1820.0</td>\n",
       "      <td>1824.7</td>\n",
       "    </tr>\n",
       "    <tr>\n",
       "      <td>1573034400806541420</td>\n",
       "      <td>1819.9</td>\n",
       "      <td>1824.5</td>\n",
       "    </tr>\n",
       "    <tr>\n",
       "      <td>...</td>\n",
       "      <td>...</td>\n",
       "      <td>...</td>\n",
       "    </tr>\n",
       "    <tr>\n",
       "      <td>1573034975406839130</td>\n",
       "      <td>1820.4</td>\n",
       "      <td>1825.4</td>\n",
       "    </tr>\n",
       "    <tr>\n",
       "      <td>1573034979008022410</td>\n",
       "      <td>1820.4</td>\n",
       "      <td>1825.7</td>\n",
       "    </tr>\n",
       "    <tr>\n",
       "      <td>1573034982808022410</td>\n",
       "      <td>1820.4</td>\n",
       "      <td>1824.9</td>\n",
       "    </tr>\n",
       "    <tr>\n",
       "      <td>1573034983408022410</td>\n",
       "      <td>1820.4</td>\n",
       "      <td>1824.1</td>\n",
       "    </tr>\n",
       "    <tr>\n",
       "      <td>1573034990408022410</td>\n",
       "      <td>1820.4</td>\n",
       "      <td>1825.6</td>\n",
       "    </tr>\n",
       "  </tbody>\n",
       "</table>\n",
       "<p>2981 rows × 2 columns</p>\n",
       "</div>"
      ],
      "text/plain": [
       "                     MHC1:IST:2  MHC2:IST:2\n",
       "timestamp                                  \n",
       "1573034400006541420      1819.7      1824.8\n",
       "1573034400206541420      1819.1      1824.7\n",
       "1573034400406541420      1819.5      1824.4\n",
       "1573034400606541420      1820.0      1824.7\n",
       "1573034400806541420      1819.9      1824.5\n",
       "...                         ...         ...\n",
       "1573034975406839130      1820.4      1825.4\n",
       "1573034979008022410      1820.4      1825.7\n",
       "1573034982808022410      1820.4      1824.9\n",
       "1573034983408022410      1820.4      1824.1\n",
       "1573034990408022410      1820.4      1825.6\n",
       "\n",
       "[2981 rows x 2 columns]"
      ]
     },
     "execution_count": 4,
     "metadata": {},
     "output_type": "execute_result"
    }
   ],
   "source": [
    "reader.as_dataframe(data)"
   ]
  },
  {
   "cell_type": "code",
   "execution_count": null,
   "metadata": {},
   "outputs": [],
   "source": []
  }
 ],
 "metadata": {
  "kernelspec": {
   "display_name": "Python 3",
   "language": "python",
   "name": "python3"
  },
  "language_info": {
   "codemirror_mode": {
    "name": "ipython",
    "version": 3
   },
   "file_extension": ".py",
   "mimetype": "text/x-python",
   "name": "python",
   "nbconvert_exporter": "python",
   "pygments_lexer": "ipython3",
   "version": "3.7.4"
  }
 },
 "nbformat": 4,
 "nbformat_minor": 2
}
